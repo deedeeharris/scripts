{
  "nbformat": 4,
  "nbformat_minor": 0,
  "metadata": {
    "colab": {
      "provenance": [],
      "authorship_tag": "ABX9TyNat1foE9CuDwcxzapraDuu",
      "include_colab_link": true
    },
    "kernelspec": {
      "name": "python3",
      "display_name": "Python 3"
    },
    "language_info": {
      "name": "python"
    }
  },
  "cells": [
    {
      "cell_type": "markdown",
      "metadata": {
        "id": "view-in-github",
        "colab_type": "text"
      },
      "source": [
        "<a href=\"https://colab.research.google.com/github/deedeeharris/scripts/blob/main/tg_get_subscribers_count_from_channels.ipynb\" target=\"_parent\"><img src=\"https://colab.research.google.com/assets/colab-badge.svg\" alt=\"Open In Colab\"/></a>"
      ]
    },
    {
      "cell_type": "markdown",
      "source": [
        "# Telegram Channel Subscribers Scraper\n",
        "\n",
        "## Overview\n",
        "\n",
        "This Python script scrapes the subscriber count of Telegram channels from a provided CSV or Excel file. It utilizes BeautifulSoup for web scraping and Pandas for data manipulation. The subscriber count is extracted from the specified HTML class, and potential errors during the process are handled gracefully.\n",
        "\n",
        "By: [Yedidya Harris](https://www.linkedin.com/in/yedidya-harris/), 01/2024\n",
        "\n",
        "## How to Use\n",
        "\n",
        "1. **Upload a CSV or Excel file** containing a column named 'Telegram_Link' with the Telegram channel links.\n",
        "\n",
        "    **Example Input File Structure:**\n",
        "\n",
        "| Telegram_Link                  |\n",
        "| ------------------------------ |\n",
        "| https://t.me/channel1           |\n",
        "| https://t.me/channel2           |\n",
        "| https://t.me/channel3           |\n",
        "| https://t.me/channel4           |\n",
        "| https://t.me/channel5           |\n",
        "\n",
        "2. **Run the script** to retrieve and display the subscriber counts. Click on the 'Play' button (to the left of the words 'Show code'): ![image.png](data:image/png;base64,iVBORw0KGgoAAAANSUhEUgAAABgAAAAaCAYAAACtv5zzAAAAAXNSR0IArs4c6QAAAARnQU1BAACxjwv8YQUAAAAJcEhZcwAADsMAAA7DAcdvqGQAAAGnSURBVEhL7ZWvigJRFMa/3SIGkxabYNEwURAVi9UHsFoNYhDmCSYoYjCJ1QcQEQTBZDBo8SFMBoMGEcRdPj0Le+fe+QO7Nn9lzjkw57ue+53x43g8fuGFfMrzZbwFAgktcLlccD6fJQuPr4sOhwPm8zk2m80jJpFIBJZloVKpIJfLPWp+eAosl0uMRiPc73ep6JTLZTSbTcnMGEfE5sPh0Lc5Wa1W6HQ6kpnRBDgKnvw31WpVIp3tdovJZCKZjibAmbtPnslk0Ov1kM/npaIym80k0tEEeKEmUqkU2u02bNtGOp2W6pPT6YTdbieZiiJAK/64xQs6h3Ov1+uIxWJSBfb7vUQqisDtdpMomFKphEKhIJn3u4oAT0SfBzGdTtFoNLBYLKQCxONxiVS0O+ASebFer9FqtTAej3G9XqX6JJvNSqSiCXBDTTiOg36/b5x1sVhEIpGQTMW4yYPB4LFEYYhGo+h2u0gmk1JR0X4B4fqH+c6wOa3r1Zz4fuy4oVwi+twNx1Kr1Xybk1D/yVwizp5WpFt4oV4zdxNK4C8Y7+A/eQsEAHwD8YWlE7b+yugAAAAASUVORK5CYII=).\n",
        "\n",
        "3. The processed data is saved to an Excel file, which is then **automatically downloaded**.\n"
      ],
      "metadata": {
        "id": "_xtr2QdTtb5R"
      }
    },
    {
      "cell_type": "code",
      "source": [
        "#@title Run me by clicking on the 'Play' button.\n",
        "import requests\n",
        "from bs4 import BeautifulSoup\n",
        "import pandas as pd\n",
        "import time\n",
        "from IPython.display import display, HTML\n",
        "from google.colab import files\n",
        "\n",
        "def get_subscribers_count(channel_link, headers):\n",
        "    response = requests.get(channel_link, headers=headers)\n",
        "    if response.status_code == 200:\n",
        "        try:\n",
        "            soup = BeautifulSoup(response.text, 'html.parser')\n",
        "            subscribers_element = soup.find('div', class_='tgme_page_extra')\n",
        "            if subscribers_element is not None:\n",
        "                subscribers_count = ''.join([s for s in subscribers_element.get_text(strip=True).split() if s.isdigit()])\n",
        "                return subscribers_count\n",
        "            else:\n",
        "                # handle the case when the specified class is not found\n",
        "                print(f\"Warning: 'tgme_page_extra' class not found on {channel_link}\")\n",
        "                return 'N/A'\n",
        "        except Exception as e:\n",
        "            # handle any other exceptions that may occur during parsing\n",
        "            print(f\"Error while parsing {channel_link}: {e}\")\n",
        "            return 'Error'\n",
        "    else:\n",
        "        return f\"Failed to retrieve the page. Status code: {response.status_code}\"\n",
        "\n",
        "\n",
        "def process_telegram_links(file_name):\n",
        "    if file_name.endswith('.csv'):\n",
        "        df = pd.read_csv(file_name)\n",
        "    elif file_name.endswith('.xlsx'):\n",
        "        df = pd.read_excel(file_name)\n",
        "    else:\n",
        "        raise ValueError(f\"Unsupported file type. Supported types: .csv, .xlsx\")\n",
        "\n",
        "\n",
        "\n",
        "    headers = {\n",
        "        'User-Agent': 'Mozilla/5.0 (Windows NT 10.0; Win64; x64) AppleWebKit/537.36 (KHTML, like Gecko) Chrome/91.0.4472.124 Safari/537.36'\n",
        "    }\n",
        "\n",
        "    df['Subscribers'] = ''\n",
        "\n",
        "    for index, row in df.iterrows():\n",
        "        channel_link = row['Telegram_Link']\n",
        "        subscribers_count = get_subscribers_count(channel_link, headers)\n",
        "        df.at[index, 'Subscribers'] = subscribers_count\n",
        "        time.sleep(0.5)\n",
        "\n",
        "    display(HTML(df.to_html()))\n",
        "\n",
        "    output_file_path = 'output_subscribers_counts.xlsx'\n",
        "    df.to_excel(output_file_path, index=False)\n",
        "\n",
        "    files.download(output_file_path)\n",
        "    print(f\"\\nDataFrame with subscriber counts saved and downloaded: {output_file_path}\")\n",
        "\n",
        "uploaded_file = files.upload()\n",
        "\n",
        "file_name = list(uploaded_file.keys())[0]\n",
        "\n",
        "# process the uploaded file\n",
        "process_telegram_links(file_name)"
      ],
      "metadata": {
        "cellView": "form",
        "id": "6KmDZHCutcJ2"
      },
      "execution_count": null,
      "outputs": []
    }
  ]
}