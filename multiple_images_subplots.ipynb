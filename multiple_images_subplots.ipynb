{
  "nbformat": 4,
  "nbformat_minor": 0,
  "metadata": {
    "colab": {
      "provenance": []
    },
    "kernelspec": {
      "name": "python3",
      "display_name": "Python 3"
    },
    "language_info": {
      "name": "python"
    }
  },
  "cells": [
    {
      "cell_type": "markdown",
      "source": [
        "# Plotting multiple images as subplots with titles and 1 colorbar\n",
        "\n",
        "Yedidya Harris"
      ],
      "metadata": {
        "id": "O-LqVenFg0tw"
      }
    },
    {
      "cell_type": "code",
      "source": [
        "# Read your images here as img0, img1, etc.\n",
        "\n",
        "# For this example, i'll create 4 black images\n",
        "\n",
        "import numpy as np\n",
        "\n",
        "# size of first image\n",
        "x = 100\n",
        "y = 100\n",
        "\n",
        "#creating the images\n",
        "for i in range(4):\n",
        "\n",
        "  globals()[\"img\" + str(i)] = np.zeros([x,y,3],dtype=np.uint8) # the globals lets us call a variable with an index from the loop\n",
        "  globals()[\"img\" + str(i)].fill(0) # fill the img\n",
        "  print(f'img{i} shape:', (globals()[\"img\" + str(i)]).shape) # print the shape of each image\n",
        "  x-=30 # just do make the images have different shapes\n",
        "  y+=50"
      ],
      "metadata": {
        "colab": {
          "base_uri": "https://localhost:8080/"
        },
        "id": "wtMv6cFueska",
        "outputId": "61a9c675-7a35-421e-a4f6-8ca8186464a2"
      },
      "execution_count": 13,
      "outputs": [
        {
          "output_type": "stream",
          "name": "stdout",
          "text": [
            "img0 shape: (100, 100, 3)\n",
            "img1 shape: (70, 150, 3)\n",
            "img2 shape: (40, 200, 3)\n",
            "img3 shape: (10, 250, 3)\n"
          ]
        }
      ]
    },
    {
      "cell_type": "code",
      "execution_count": 14,
      "metadata": {
        "colab": {
          "base_uri": "https://localhost:8080/",
          "height": 582
        },
        "id": "xe8Cx8RheNc7",
        "outputId": "0a422a12-f02d-4ad2-a094-08122953f961"
      },
      "outputs": [
        {
          "output_type": "display_data",
          "data": {
            "text/plain": [
              "<Figure size 1080x720 with 5 Axes>"
            ],
            "image/png": "[encoded data removed]"
          },
          "metadata": {
            "needs_background": "light"
          }
        }
      ],
      "source": [
        "# The plotting\n",
        "\n",
        "# import relevant libs\n",
        "import numpy as np\n",
        "import matplotlib.pyplot as plt\n",
        "import cv2\n",
        "\n",
        "# plt.rcParams['axes.facecolor']='black' # make bg color of the plot to black if needed (segmented images)\n",
        "\n",
        "# resize images to shape of img0\n",
        "for i in range(4):\n",
        "  globals()[\"img\" + str(i)] = cv2.resize(globals()[\"img\" + str(i)], dsize=(100,100), interpolation=cv2.INTER_CUBIC)\n",
        "\n",
        "\n",
        "# subplots\n",
        "fig, axes = plt.subplots(nrows=2, ncols=2, figsize=(15,10)) # set number of rows, cols, and size\n",
        "for i,ax in enumerate(axes.flat): #iterating after a list of axes\n",
        "    im = ax.imshow(globals()[\"img\" + str(i)], cmap='jet', vmin=25, vmax=29) #image source,set cmap, min,max of the colorbar, \n",
        "    ax.set_title(f'Image {i}', fontsize=20, y=1)\n",
        "\n",
        "    ax.set_xticks([]) # remove the xticks\n",
        "    ax.set_yticks([]) # remove the yticks\n",
        "\n",
        "    #remove frame(black border)\n",
        "    ax.spines['top'].set_visible(False)\n",
        "    ax.spines['right'].set_visible(False)\n",
        "    ax.spines['bottom'].set_visible(False)\n",
        "    ax.spines['left'].set_visible(False)\n",
        "\n",
        "\n",
        "# more settings\n",
        "fig.subplots_adjust(right=0.6) # distance between cols of images\n",
        "cbar_ax = fig.add_axes([0.65, 0.25, 0.03, 0.5]) # location of the colorbar, and size [right/left, top/bottom, width of colorbar, size]\n",
        "fig.colorbar(im, cax=cbar_ax) # adding the colorbar\n",
        "\n",
        "plt.show()"
      ]
    }
  ]
}